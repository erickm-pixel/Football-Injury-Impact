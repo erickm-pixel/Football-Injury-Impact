{
 "cells": [
  {
   "cell_type": "code",
   "execution_count": 6,
   "id": "cd804f41-d9a1-47cd-acda-0301796c63e9",
   "metadata": {},
   "outputs": [
    {
     "name": "stdout",
     "output_type": "stream",
     "text": [
      "⚠️ Warning: Some dates could not be parsed. Check these records:\n",
      "                Name Date of Injury Date of return\n",
      "85    Alexander Isak     2022-09-20            NaT\n",
      "215       Matty Cash     2021-02-18            NaT\n",
      "262    JJacob Ramsey     2024-03-03            NaT\n",
      "263  Boubacar Kamara     2024-02-11            NaT\n",
      "545     Jordan Beyer     2024-01-08            NaT\n",
      "559       Yerry Mina     2020-06-02            NaT\n",
      "652    Dwight McNeil            NaT     2023-09-01\n"
     ]
    }
   ],
   "source": [
    "import pandas as pd\n",
    "import numpy as np\n",
    "\n",
    "# Load data\n",
    "df = pd.read_csv('player_injuries_impact.csv')\n",
    "\n",
    "# Step 1: Handle missing values (including badly formatted multi-column \"N.A.\" values)\n",
    "df.replace(['N.A.', 'N.A.,N.A.,N.A.,N.A.', '', 'NaT', 'nan'], np.nan, inplace=True)\n",
    "\n",
    "# Step 2: Clean and standardize date formats\n",
    "def clean_date(date_str):\n",
    "    if pd.isna(date_str):\n",
    "        return np.nan\n",
    "    date_str = str(date_str).strip()\n",
    "    # Fix common missing space after comma\n",
    "    if ',' in date_str and ', ' not in date_str:\n",
    "        date_str = date_str.replace(',', ', ')\n",
    "    return date_str\n",
    "\n",
    "df['Date of Injury'] = df['Date of Injury'].apply(clean_date)\n",
    "df['Date of return'] = df['Date of return'].apply(clean_date)\n",
    "\n",
    "# Convert to datetime\n",
    "df['Date of Injury'] = pd.to_datetime(df['Date of Injury'], format='%b %d, %Y', errors='coerce')\n",
    "df['Date of return'] = pd.to_datetime(df['Date of return'], format='%b %d, %Y', errors='coerce')\n",
    "\n",
    "# Step 3: Fix known data entry errors\n",
    "df['Name'] = df['Name'].str.replace('acob Ramsey', 'Jacob Ramsey', regex=False)\n",
    "\n",
    "# Step 4: Clean and convert player ratings\n",
    "def clean_rating(rating):\n",
    "    if pd.isna(rating):\n",
    "        return np.nan\n",
    "    rating = str(rating).strip()\n",
    "    rating = rating.replace('..', '.').replace('(S)', '').replace('S', '').strip()\n",
    "    try:\n",
    "        return float(rating)\n",
    "    except ValueError:\n",
    "        return np.nan\n",
    "\n",
    "rating_cols = [col for col in df.columns if 'rating' in col.lower()]\n",
    "for col in rating_cols:\n",
    "    df[col] = df[col].apply(clean_rating)\n",
    "\n",
    "# Step 5: Feature engineering - calculate injury duration\n",
    "df['Injury Duration'] = (df['Date of return'] - df['Date of Injury']).dt.days\n",
    "\n",
    "# Step 6: Final check for any date parsing issues\n",
    "if df['Date of Injury'].isna().any() or df['Date of return'].isna().any():\n",
    "    print(\"⚠️ Warning: Some dates could not be parsed. Check these records:\")\n",
    "    print(df[df['Date of Injury'].isna() | df['Date of return'].isna()][['Name', 'Date of Injury', 'Date of return']])\n"
   ]
  },
  {
   "cell_type": "code",
   "execution_count": 7,
   "id": "fd779e78-ffec-4506-89f2-2ad035974c68",
   "metadata": {},
   "outputs": [
    {
     "name": "stdout",
     "output_type": "stream",
     "text": [
      "                Name Date of Injury Date of return\n",
      "85    Alexander Isak     2022-09-20            NaT\n",
      "215       Matty Cash     2021-02-18            NaT\n",
      "262    JJacob Ramsey     2024-03-03            NaT\n",
      "263  Boubacar Kamara     2024-02-11            NaT\n",
      "545     Jordan Beyer     2024-01-08            NaT\n",
      "559       Yerry Mina     2020-06-02            NaT\n",
      "652    Dwight McNeil            NaT     2023-09-01\n"
     ]
    }
   ],
   "source": [
    "# Show original raw values (before date cleaning)\n",
    "problematic_rows = df.loc[[85, 215, 262, 263, 545, 559, 652], ['Name', 'Date of Injury', 'Date of return']]\n",
    "print(problematic_rows)\n"
   ]
  },
  {
   "cell_type": "code",
   "execution_count": 8,
   "id": "3f856048-e124-4ca5-b1f5-81eded4701d9",
   "metadata": {},
   "outputs": [],
   "source": [
    "# Fix name typo\n",
    "df.loc[df['Name'] == 'JJacob Ramsey', 'Name'] = 'Jacob Ramsey'\n",
    "\n",
    "# Manually add missing return dates (estimate if unknown)\n",
    "df.loc[df['Name'] == 'Alexander Isak', 'Date of return'] = '2022-12-01'  # ~2.5 months later\n",
    "df.loc[df['Name'] == 'Matty Cash', 'Date of return'] = '2021-04-01'\n",
    "df.loc[df['Name'] == 'Jacob Ramsey', 'Date of return'] = '2024-04-20'\n",
    "df.loc[df['Name'] == 'Boubacar Kamara', 'Date of return'] = '2024-04-10'\n",
    "df.loc[df['Name'] == 'Jordan Beyer', 'Date of return'] = '2024-03-01'\n",
    "df.loc[df['Name'] == 'Yerry Mina', 'Date of return'] = '2020-08-01'\n",
    "\n",
    "# Manually add missing injury date for McNeil\n",
    "df.loc[df['Name'] == 'Dwight McNeil', 'Date of Injury'] = '2023-08-01'\n"
   ]
  },
  {
   "cell_type": "code",
   "execution_count": 9,
   "id": "b1c04569-e9e8-4c39-a840-71979bface4c",
   "metadata": {},
   "outputs": [],
   "source": [
    "# Re-clean and convert to datetime\n",
    "df['Date of Injury'] = pd.to_datetime(df['Date of Injury'], errors='coerce')\n",
    "df['Date of return'] = pd.to_datetime(df['Date of return'], errors='coerce')\n"
   ]
  },
  {
   "cell_type": "code",
   "execution_count": 10,
   "id": "a245e464-ae1d-482e-8c72-3f42aeee8ea6",
   "metadata": {},
   "outputs": [],
   "source": [
    "df['Injury Duration'] = (df['Date of return'] - df['Date of Injury']).dt.days\n"
   ]
  },
  {
   "cell_type": "code",
   "execution_count": 11,
   "id": "9acef382-ad6f-4667-be91-faaf3d7591f9",
   "metadata": {},
   "outputs": [
    {
     "name": "stdout",
     "output_type": "stream",
     "text": [
      "Empty DataFrame\n",
      "Columns: [Name, Date of Injury, Date of return]\n",
      "Index: []\n"
     ]
    }
   ],
   "source": [
    "print(df[df['Date of Injury'].isna() | df['Date of return'].isna()][['Name', 'Date of Injury', 'Date of return']])\n"
   ]
  },
  {
   "cell_type": "code",
   "execution_count": 12,
   "id": "15605df9-4136-482a-8119-587ebb2890b7",
   "metadata": {},
   "outputs": [
    {
     "name": "stdout",
     "output_type": "stream",
     "text": [
      "count     656.000000\n",
      "mean       36.092988\n",
      "std       129.706406\n",
      "min     -1137.000000\n",
      "25%        12.000000\n",
      "50%        25.000000\n",
      "75%        56.000000\n",
      "max       682.000000\n",
      "Name: Injury Duration, dtype: float64\n"
     ]
    }
   ],
   "source": [
    "print(df['Injury Duration'].describe())\n"
   ]
  },
  {
   "cell_type": "code",
   "execution_count": 17,
   "id": "485a5ea9-854d-49fd-a154-084de0dae194",
   "metadata": {},
   "outputs": [
    {
     "name": "stdout",
     "output_type": "stream",
     "text": [
      "['Name', 'Team Name', 'Position', 'Age', 'Season', 'FIFA rating', 'Injury', 'Date of Injury', 'Date of return', 'Match1_before_injury_Result', 'Match1_before_injury_Opposition', 'Match1_before_injury_GD', 'Match1_before_injury_Player_rating', 'Match2_before_injury_Result', 'Match2_before_injury_Opposition', 'Match2_before_injury_GD', 'Match2_before_injury_Player_rating', 'Match3_before_injury_Result', 'Match3_before_injury_Opposition', 'Match3_before_injury_GD', 'Match3_before_injury_Player_rating', 'Match1_missed_match_Result', 'Match1_missed_match_Opposition', 'Match1_missed_match_GD', 'Match2_missed_match_Result', 'Match2_missed_match_Opposition', 'Match2_missed_match_GD', 'Match3_missed_match_Result', 'Match3_missed_match_Opposition', 'Match3_missed_match_GD', 'Match1_after_injury_Result', 'Match1_after_injury_Opposition', 'Match1_after_injury_GD', 'Match1_after_injury_Player_rating', 'Match2_after_injury_Result', 'Match2_after_injury_Opposition', 'Match2_after_injury_GD', 'Match2_after_injury_Player_rating', 'Match3_after_injury_Result', 'Match3_after_injury_Opposition', 'Match3_after_injury_GD', 'Match3_after_injury_Player_rating', 'Injury Duration']\n"
     ]
    }
   ],
   "source": [
    "#Player Injury Impact Analysis\n",
    "print(df.columns.tolist())\n"
   ]
  },
  {
   "cell_type": "code",
   "execution_count": 18,
   "id": "66f1a3bd-9129-43e2-86e8-4db35a01d3f8",
   "metadata": {},
   "outputs": [],
   "source": [
    "# Convert ratings to float and clean up missing data\n",
    "rating_cols_before = [\n",
    "    'Match1_before_injury_Player_rating',\n",
    "    'Match2_before_injury_Player_rating',\n",
    "    'Match3_before_injury_Player_rating'\n",
    "]\n",
    "\n",
    "rating_cols_after = [\n",
    "    'Match1_after_injury_Player_rating',\n",
    "    'Match2_after_injury_Player_rating',\n",
    "    'Match3_after_injury_Player_rating'\n",
    "]\n",
    "\n",
    "# Convert to float (if not already)\n",
    "for col in rating_cols_before + rating_cols_after:\n",
    "    df[col] = pd.to_numeric(df[col], errors='coerce')\n",
    "\n",
    "# Calculate average ratings\n",
    "df['Player_rating_before'] = df[rating_cols_before].mean(axis=1)\n",
    "df['Player_rating_after'] = df[rating_cols_after].mean(axis=1)\n"
   ]
  },
  {
   "cell_type": "code",
   "execution_count": 21,
   "id": "34d8b24f-13a8-46bd-9053-97e6e3a6983f",
   "metadata": {},
   "outputs": [
    {
     "data": {
      "image/png": "[encoded data removed]",
      "text/plain": [
       "<Figure size 1000x600 with 1 Axes>"
      ]
     },
     "metadata": {},
     "output_type": "display_data"
    }
   ],
   "source": [
    "import seaborn as sns\n",
    "import matplotlib.pyplot as plt\n",
    "\n",
    "# Drop rows with missing rating data and make an explicit copy\n",
    "df_perf = df.dropna(subset=['Player_rating_before', 'Player_rating_after']).copy()\n",
    "\n",
    "# Calculate rating change safely\n",
    "df_perf['Rating Change'] = df_perf['Player_rating_after'] - df_perf['Player_rating_before']\n",
    "\n",
    "# Plot change in player ratings after injury\n",
    "sns.set(style=\"whitegrid\")\n",
    "plt.figure(figsize=(10, 6))\n",
    "sns.histplot(df_perf['Rating Change'], kde=True, bins=20, color='skyblue')\n",
    "plt.title(\"Change in Player Rating After Injury\", fontsize=14)\n",
    "plt.xlabel(\"Rating Change (After - Before)\", fontsize=12)\n",
    "plt.ylabel(\"Number of Players\", fontsize=12)\n",
    "plt.axvline(0, color='red', linestyle='--', label='No Change')\n",
    "plt.legend()\n",
    "plt.tight_layout()\n",
    "plt.show()\n",
    "\n"
   ]
  },
  {
   "cell_type": "code",
   "execution_count": 23,
   "id": "2697f4a1-4aef-44c3-8a3e-3d6de8f25a62",
   "metadata": {},
   "outputs": [
    {
     "name": "stdout",
     "output_type": "stream",
     "text": [
      "🏅 Top Post-Injury Performers:\n",
      "                 Name  Injury Duration  Player_rating_before  \\\n",
      "402       Richarlison               23              6.400000   \n",
      "475  Giovani Lo Celso               36              6.700000   \n",
      "307        Paul Pogba               42              6.533333   \n",
      "482         Nick Pope                7              7.133333   \n",
      "81    Bruno Guimarães               22              6.800000   \n",
      "105       Sven Botman               19              6.833333   \n",
      "614        Moise Kean                8              5.400000   \n",
      "405   Sergio Reguilon                7              6.966667   \n",
      "198   Martin Ødegaard               19              7.066667   \n",
      "60      Jonjo Shelvey                9              6.666667   \n",
      "\n",
      "     Player_rating_after  \n",
      "402             8.366667  \n",
      "475             8.100000  \n",
      "307             7.900000  \n",
      "482             7.833333  \n",
      "81              7.800000  \n",
      "105             7.800000  \n",
      "614             7.800000  \n",
      "405             7.733333  \n",
      "198             7.733333  \n",
      "60              7.666667  \n"
     ]
    }
   ],
   "source": [
    "# Top performers after injury\n",
    "top_recoveries = df_perf.sort_values(by='Player_rating_after', ascending=False).head(10)\n",
    "print(\"🏅 Top Post-Injury Performers:\")\n",
    "print(top_recoveries[['Name', 'Injury Duration', 'Player_rating_before', 'Player_rating_after']])\n"
   ]
  },
  {
   "cell_type": "code",
   "execution_count": 24,
   "id": "3433c1a3-53aa-4ab2-9475-15c518f4bc5b",
   "metadata": {},
   "outputs": [
    {
     "name": "stdout",
     "output_type": "stream",
     "text": [
      "💎 Hidden Gems (Improved Post-Injury):\n",
      "                      Name  Player_rating_before  Player_rating_after\n",
      "117          Harvey Barnes              5.966667             7.466667\n",
      "156     Gabriel Martinelli              5.733333             7.050000\n",
      "269          Harry Maguire              5.966667             7.000000\n",
      "320        Bruno Fernandes              3.933333             7.400000\n",
      "400            Richarlison              5.800000             7.400000\n",
      "558             Yerry Mina              5.900000             7.033333\n",
      "564             Yerry Mina              5.800000             7.100000\n",
      "578    Morgan Schneiderlin              5.733333             7.066667\n",
      "614             Moise Kean              5.400000             7.800000\n",
      "618  Dominic Calvert-Lewin              5.500000             7.333333\n"
     ]
    }
   ],
   "source": [
    "gems = df_perf[(df_perf['Player_rating_before'] < 6.0) & (df_perf['Player_rating_after'] >= 7.0)]\n",
    "print(\"💎 Hidden Gems (Improved Post-Injury):\")\n",
    "print(gems[['Name', 'Player_rating_before', 'Player_rating_after']])\n"
   ]
  },
  {
   "cell_type": "code",
   "execution_count": 25,
   "id": "dd3b8516-4d87-402a-a029-e904aac0ed5f",
   "metadata": {},
   "outputs": [
    {
     "name": "stdout",
     "output_type": "stream",
     "text": [
      "Risk Distribution:\n",
      " High Risk Injury\n",
      "False    512\n",
      "True     144\n",
      "Name: count, dtype: int64\n"
     ]
    }
   ],
   "source": [
    "# Flag players with long injuries\n",
    "df['High Risk Injury'] = df['Injury Duration'] > 60  # more than 2 months\n",
    "\n",
    "# Summary\n",
    "risk_summary = df['High Risk Injury'].value_counts()\n",
    "print(\"Risk Distribution:\\n\", risk_summary)\n"
   ]
  },
  {
   "cell_type": "code",
   "execution_count": 26,
   "id": "e7b46d22-e0fb-47b9-bd19-e008eccf1540",
   "metadata": {},
   "outputs": [
    {
     "name": "stdout",
     "output_type": "stream",
     "text": [
      "📊 Player Profile:\n",
      "               Name Date of Injury Date of return  Injury Duration  \\\n",
      "85   Alexander Isak     2022-09-20     2022-12-01               72   \n",
      "111  Alexander Isak     2023-10-25     2022-12-01             -328   \n",
      "112  Alexander Isak     2024-01-30     2022-12-01             -425   \n",
      "\n",
      "     Player_rating_before  Player_rating_after  \n",
      "85               6.766667             6.566667  \n",
      "111              7.000000             6.233333  \n",
      "112              6.866667             6.566667  \n"
     ]
    }
   ],
   "source": [
    "def player_report(name):\n",
    "    p = df[df['Name'].str.contains(name, case=False)]\n",
    "    if p.empty:\n",
    "        print(\"Player not found.\")\n",
    "    else:\n",
    "        print(\"📊 Player Profile:\")\n",
    "        print(p[['Name', 'Date of Injury', 'Date of return', 'Injury Duration', 'Player_rating_before', 'Player_rating_after']])\n",
    "\n",
    "# Example\n",
    "player_report(\"Isak\")\n"
   ]
  },
  {
   "cell_type": "code",
   "execution_count": 27,
   "id": "9cd9a5ec-6193-4a0f-b6fa-184646513cb9",
   "metadata": {},
   "outputs": [
    {
     "name": "stdout",
     "output_type": "stream",
     "text": [
      "Model Coefficients: [2.60601526e-01 1.35838339e-04]\n",
      "Model Intercept: 4.735841713395413\n",
      "R² Score: 0.11607838752691424\n"
     ]
    }
   ],
   "source": [
    "from sklearn.linear_model import LinearRegression\n",
    "from sklearn.model_selection import train_test_split\n",
    "\n",
    "model_df = df_perf[['Player_rating_before', 'Injury Duration', 'Player_rating_after']].dropna()\n",
    "X = model_df[['Player_rating_before', 'Injury Duration']]\n",
    "y = model_df['Player_rating_after']\n",
    "\n",
    "X_train, X_test, y_train, y_test = train_test_split(X, y, test_size=0.2, random_state=42)\n",
    "\n",
    "reg = LinearRegression()\n",
    "reg.fit(X_train, y_train)\n",
    "\n",
    "print(\"Model Coefficients:\", reg.coef_)\n",
    "print(\"Model Intercept:\", reg.intercept_)\n",
    "print(\"R² Score:\", reg.score(X_test, y_test))\n"
   ]
  },
  {
   "cell_type": "code",
   "execution_count": null,
   "id": "f6af5ee0-ab69-4de8-b77c-69d43a105d9c",
   "metadata": {},
   "outputs": [],
   "source": []
  }
 ],
 "metadata": {
  "kernelspec": {
   "display_name": "Python 3 (ipykernel)",
   "language": "python",
   "name": "python3"
  },
  "language_info": {
   "codemirror_mode": {
    "name": "ipython",
    "version": 3
   },
   "file_extension": ".py",
   "mimetype": "text/x-python",
   "name": "python",
   "nbconvert_exporter": "python",
   "pygments_lexer": "ipython3",
   "version": "3.12.7"
  }
 },
 "nbformat": 4,
 "nbformat_minor": 5
}
